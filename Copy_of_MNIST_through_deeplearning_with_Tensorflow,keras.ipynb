{
  "nbformat": 4,
  "nbformat_minor": 0,
  "metadata": {
    "colab": {
      "private_outputs": true,
      "provenance": [],
      "authorship_tag": "ABX9TyPe4DODslZsvH4MCApCnzHH",
      "include_colab_link": true
    },
    "kernelspec": {
      "name": "python3",
      "display_name": "Python 3"
    },
    "language_info": {
      "name": "python"
    }
  },
  "cells": [
    {
      "cell_type": "markdown",
      "metadata": {
        "id": "view-in-github",
        "colab_type": "text"
      },
      "source": [
        "<a href=\"https://colab.research.google.com/github/nikhil1111111/Deep-learning-practice-session/blob/main/Copy_of_MNIST_through_deeplearning_with_Tensorflow%2Ckeras.ipynb\" target=\"_parent\"><img src=\"https://colab.research.google.com/assets/colab-badge.svg\" alt=\"Open In Colab\"/></a>"
      ]
    },
    {
      "cell_type": "code",
      "execution_count": null,
      "metadata": {
        "id": "DI3exHfhkEZ9"
      },
      "outputs": [],
      "source": [
        "import tensorflow as tf"
      ]
    },
    {
      "cell_type": "code",
      "source": [
        "import keras "
      ],
      "metadata": {
        "id": "KH5YWy9WkMUM"
      },
      "execution_count": null,
      "outputs": []
    },
    {
      "cell_type": "code",
      "source": [
        "import numpy as np"
      ],
      "metadata": {
        "id": "Ka88eZN1wGP5"
      },
      "execution_count": null,
      "outputs": []
    },
    {
      "cell_type": "code",
      "source": [
        "mnist = tf.keras.datasets.mnist\n",
        "(x_train,y_train),(x_test,y_test)=mnist.load_data()"
      ],
      "metadata": {
        "id": "28OJCsMikSn-"
      },
      "execution_count": null,
      "outputs": []
    },
    {
      "cell_type": "code",
      "source": [
        "(x_train,y_train),(x_test,y_test)=mnist.load_data()\n",
        "x_train = tf.keras.utils.normalize(x_train, axis=1).reshape(x_train.shape[0],-1)\n",
        "x_test = tf.keras.utils.normalize(x_test, axis=1).reshape(x_test.shape[0],-1)"
      ],
      "metadata": {
        "id": "UvP3Ko8Sk6gp"
      },
      "execution_count": null,
      "outputs": []
    },
    {
      "cell_type": "code",
      "source": [],
      "metadata": {
        "id": "V73XAUuHpJ-A"
      },
      "execution_count": null,
      "outputs": []
    },
    {
      "cell_type": "code",
      "source": [
        "model = tf.keras.models.Sequential()\n",
        "model.add(tf.keras.layers.Flatten())\n",
        "model.add(tf.keras.layers.Dense(128 ,activation=tf.nn.relu,input_shape=x_train.shape[1:]))\n",
        "model.add(tf.keras.layers.Dense(128 ,activation=tf.nn.relu))\n",
        "model.add(tf.keras.layers.Dense(10 ,activation=tf.nn.softmax))"
      ],
      "metadata": {
        "id": "or6fkUhVluU-"
      },
      "execution_count": null,
      "outputs": []
    },
    {
      "cell_type": "code",
      "source": [
        "(x_train,y_train),(x_test,y_test)=mnist.load_data()\n",
        "x_train = tf.keras.utils.normalize(x_train, axis=1)\n",
        "x_test = tf.keras.utils.normalize(x_test, axis=1)"
      ],
      "metadata": {
        "id": "fRlyHPl1tuz6"
      },
      "execution_count": null,
      "outputs": []
    },
    {
      "cell_type": "code",
      "source": [
        "model.compile(optimizer='adam',\n",
        "        loss='sparse_categorical_crossentropy',\n",
        "        metrics=['accuracy'])\n",
        "model.fit(x_train,y_train,epochs=10)"
      ],
      "metadata": {
        "id": "SxVtx1aIm7f4"
      },
      "execution_count": null,
      "outputs": []
    },
    {
      "cell_type": "code",
      "source": [],
      "metadata": {
        "id": "CLxnydCwwfRx"
      },
      "execution_count": null,
      "outputs": []
    },
    {
      "cell_type": "code",
      "source": [
        "val_loss,val_accuracy=model.evaluate(x_test,y_test)\n",
        "print(val_loss)\n",
        "print(val_accuracy)"
      ],
      "metadata": {
        "id": "G5yIL3g9qxj2"
      },
      "execution_count": null,
      "outputs": []
    },
    {
      "cell_type": "code",
      "source": [
        "model.save('nikhil_minst')"
      ],
      "metadata": {
        "id": "ebkyuLJTtSmf"
      },
      "execution_count": null,
      "outputs": []
    },
    {
      "cell_type": "code",
      "source": [
        "new_model=tf.keras.models.load_model('nikhil_minst')"
      ],
      "metadata": {
        "id": "Hiq2YPy_vHIl"
      },
      "execution_count": null,
      "outputs": []
    },
    {
      "cell_type": "code",
      "source": [
        "pridiction=new_model.predict(x_test)\n",
        "print(pridiction)"
      ],
      "metadata": {
        "id": "zbeYrTGBvV9o"
      },
      "execution_count": null,
      "outputs": []
    },
    {
      "cell_type": "code",
      "source": [
        "print(np.argmax(pridiction[0]))"
      ],
      "metadata": {
        "id": "n8Ev3dXrvnp8"
      },
      "execution_count": null,
      "outputs": []
    },
    {
      "cell_type": "code",
      "source": [
        "import matplotlib.pyplot as plt\n",
        "plt.imshow(x_test[0],cmap=plt.cm.binary)\n",
        "print(x_test[0])\n",
        "plt.show()"
      ],
      "metadata": {
        "id": "5v1eZLKAxp1x"
      },
      "execution_count": null,
      "outputs": []
    },
    {
      "cell_type": "code",
      "source": [
        "plt.imshow(x_test[4],cmap=plt.cm.binary)\n",
        "plt.show()"
      ],
      "metadata": {
        "id": "KWTqIQ5PyOxj"
      },
      "execution_count": null,
      "outputs": []
    },
    {
      "cell_type": "code",
      "source": [],
      "metadata": {
        "id": "XKB3-y3EywKS"
      },
      "execution_count": null,
      "outputs": []
    }
  ]
}